{
 "cells": [
  {
   "cell_type": "markdown",
   "metadata": {},
   "source": [
    "# 【データ分析 -要点整理-】"
   ]
  },
  {
   "cell_type": "markdown",
   "metadata": {},
   "source": [
    "## 1. データ分析の流れ"
   ]
  },
  {
   "cell_type": "markdown",
   "metadata": {},
   "source": [
    "- タスクと評価指標\n",
    "- 特徴量の作成\n",
    "- モデルの作成\n",
    "- モデルの評価\n",
    "- モデルのチューニング\n",
    "- アンサンブル"
   ]
  },
  {
   "cell_type": "markdown",
   "metadata": {},
   "source": [
    "## 2.タスクと評価指標"
   ]
  },
  {
   "cell_type": "code",
   "execution_count": 2,
   "metadata": {},
   "outputs": [],
   "source": [
    "# Markdown形式での画像の挿入\n",
    "#<img src='img/linear_regression.png' width='300' >\n",
    "#![回帰](/img/linear_regression.png) "
   ]
  },
  {
   "cell_type": "code",
   "execution_count": 3,
   "metadata": {},
   "outputs": [
    {
     "name": "stderr",
     "output_type": "stream",
     "text": [
      "<frozen importlib._bootstrap>:219: RuntimeWarning: numpy.ufunc size changed, may indicate binary incompatibility. Expected 192 from C header, got 216 from PyObject\n"
     ]
    }
   ],
   "source": [
    "import numpy as np\n",
    "import pandas as pd\n",
    "import matplotlib.pyplot as plt\n",
    "%matplotlib inline\n",
    "import tqdm"
   ]
  },
  {
   "cell_type": "markdown",
   "metadata": {},
   "source": [
    "### 2.1 タスクの種類"
   ]
  },
  {
   "cell_type": "markdown",
   "metadata": {},
   "source": [
    "タスク\n",
    "- 教師あり学習\n",
    "    - [回帰](/img/linear_regression.png)\n",
    "        - 物の値段、物価のリターンや店舗への来客数などといった数値を予測\n",
    "        - Kaggleコンペ\n",
    "            - House Prices\n",
    "            - Zillow Prize\n",
    "    - 分類\n",
    "        - [二値分類](/img/binary_classification.png)\n",
    "            - 患者が病気にかかっている（1）か否(0)かなど、0,1の2種類で予測する or 0から1の間の確率で予測\n",
    "            - Kaggleコンペ\n",
    "                - Titanic\n",
    "                - Home Credit Default Risk\n",
    "        - 多クラス分類\n",
    "            - [マルチクラス分類](/img/multi-class_classification.png) \n",
    "                - レコードが複数のクラスのうちどれか一つに属している場合の予測\n",
    "                    - 目的変数は A,B,C のどれか1つに属する\n",
    "                - Kaggleコンペ\n",
    "                    - Two Sigma Connect\n",
    "            - [マルチラベル分類](/img/multi-label_classification.png)\n",
    "                - 同時に複数のクラスに属する場合がある場合の予測\n",
    "                    - 目的変数は A,B,C の1だけに属しているとは限らない\n",
    "                - Kaggleコンペ\n",
    "                    - Human Protein Atlas Image Classification\n",
    "    - [レコメンデーション](/img/recommendation.png) \n",
    "        - ユーザが購入しそうな商品や反応しそうな広告などを予測する（ユーザごとに商品や広告を複数個予測するケースが主となる）\n",
    "        - 順位をつける場合もつけない場合も、各ユーザが各商品を購入するかしないかという __二値分類問題__ として解くことが一般的\n",
    "        - 購入可能性に応じた順位をつけて予測\n",
    "        - 順位をつけずに予測\n",
    "            - マルチラベル分類と同様に複数の正解があり複数の予測値を出す\n",
    "        - Kaggleコンペ\n",
    "            - Stander Product Recommendation\n",
    "            - Instacart Market Basket Analysis\n",
    "    - その他\n",
    "        - 物体検出\n",
    "            - 画像に含まれる物体のクラスとその存在する領域を短形領域（bounding box）で推定するタスク\n",
    "            - Kaggleのコンペ\n",
    "                - Google AI Open Images - Object Detection Track\n",
    "        - セグメンテーション\n",
    "            - 画像に含まれる物体の存在領域を画像のピクセル単位で推定するタスク\n",
    "            - Kaggleコンペ\n",
    "                - TGS Salt Identification Challenge\n",
    "- 教師なし学習\n",
    "    - クラスタリング\n",
    "    - 主成分分析\n",
    "    - その他\n",
    "- 強化学習\n",
    "    - A / B テスト\n",
    "    - レコメンデーション\n",
    "    - ゲーム：囲碁、将棋"
   ]
  },
  {
   "cell_type": "markdown",
   "metadata": {},
   "source": [
    "### 2.2データセットの種類"
   ]
  },
  {
   "cell_type": "markdown",
   "metadata": {},
   "source": [
    "データセット\n",
    "- テーブルデータ\n",
    "    - ExcelなどのスプレッドシートやpandasのDataFrameで表されるような行と列を持つ形式のデータ\n",
    "- 外部データ\n",
    "    - 画像認識や自然言語処理における学習済みモデル\n",
    "- 時系列データ\n",
    "    - 時間の推移と共に観測されたデータ\n",
    "    - Kaggleコンペ\n",
    "        - 各飲食店の日次の来客数などが与えられ、将来の来客数を予測するタスク\n",
    "            - Recruit Restaurant Visitor Forecasting\n",
    "        - 各顧客の金融商品の購入履歴などが月単位で与えられ、最新月の購入商品を予測するタスク\n",
    "            - Santander Product Recommendation\n",
    "        - 共同購入型クーポンサイトにおけるユーザ、過去に販売されたクーポンと購入履歴などが与えられ、将来に各ユーザがどのクーポンを購入するかを予測するタスク\n",
    "            - Coupon Purchase Prediction\n",
    "- 画像や自然言語などのデータ\n",
    "    - 画像・動画・音声・波形といったデータを主に扱うタスクには、深層学習が用いられることがほとんど\n",
    "    - Kaggleコンペ\n",
    "        - テーブルデータの中に自然言語処理があり、うまく特徴量に落とし込む必要がある\n",
    "            - Quora Question Pairs\n",
    "        - テーブルデータの列に広告の画像や広告のタイトルや説明といった自然言語が含まれるコンペ\n",
    "            - Avito Demand Prediction Challenge"
   ]
  },
  {
   "cell_type": "markdown",
   "metadata": {},
   "source": [
    "### 2.3 評価指標"
   ]
  },
  {
   "cell_type": "markdown",
   "metadata": {},
   "source": [
    "評価指標\n",
    "- 回帰\n",
    "    - __RMSE__\n",
    "    - __RMSLE__\n",
    "    - __MAE__\n",
    "    - __R^2__\n",
    "- 分類\n",
    "    - 二値分類\n",
    "        - 0か1の2種類のラベルで予測値を提出する場合\n",
    "            - __F1-score__\n",
    "        - 0から1の間の確率を表す数値で予測を提出する場合\n",
    "            - __logloss__\n",
    "            - __AUC__\n",
    "    - 多クラス分類\n",
    "        - マルチクラス分類\n",
    "            - __multi-class logloss__\n",
    "        - マルチラベル分類\n",
    "            - __mean-F1__\n",
    "            - __macro-F1__\n",
    "- レコメンド\n",
    "    - 順位をつけて予測を提出する場合\n",
    "        - __MAP@K__\n",
    "    - 順位をつけないで予測を提出する場合\n",
    "        - __mean-F1__\n",
    "        - __macro-F1__\n"
   ]
  },
  {
   "cell_type": "markdown",
   "metadata": {},
   "source": [
    "#### 2.3.1. 回帰"
   ]
  },
  {
   "cell_type": "markdown",
   "metadata": {},
   "source": [
    "__RMSE（Root Mean Squared Error：平均平方二乗誤差）__"
   ]
  },
  {
   "cell_type": "code",
   "execution_count": 10,
   "metadata": {},
   "outputs": [
    {
     "name": "stdout",
     "output_type": "stream",
     "text": [
      "43.20493798938573\n"
     ]
    }
   ],
   "source": [
    "from sklearn.metrics import mean_squared_error\n",
    "\n",
    "# va_y：真の値, pred：予測値\n",
    "va_y = [100, 160, 60]\n",
    "pred = [80, 100, 100]\n",
    "\n",
    "rmse = np.sqrt(mean_squared_error(va_y, pred))\n",
    "print(rmse)"
   ]
  },
  {
   "cell_type": "markdown",
   "metadata": {},
   "source": [
    "__RMSLE（Root Mean Squared Logarithmic Error）__"
   ]
  },
  {
   "cell_type": "code",
   "execution_count": 11,
   "metadata": {},
   "outputs": [
    {
     "name": "stdout",
     "output_type": "stream",
     "text": [
      "1.4944905400842203\n"
     ]
    }
   ],
   "source": [
    "from sklearn.metrics import mean_squared_log_error\n",
    "\n",
    "# va_y：真の値, pred：予測値\n",
    "va_y = [100, 0, 400]\n",
    "pred = [200, 10, 200]\n",
    "\n",
    "rmsle = np.sqrt(mean_squared_log_error(va_y, pred))\n",
    "print(rmsle)"
   ]
  },
  {
   "cell_type": "markdown",
   "metadata": {},
   "source": [
    "__MAE（Mean Absolute Error）__"
   ]
  },
  {
   "cell_type": "code",
   "execution_count": 13,
   "metadata": {},
   "outputs": [
    {
     "name": "stdout",
     "output_type": "stream",
     "text": [
      "40.0\n"
     ]
    }
   ],
   "source": [
    "from sklearn.metrics import mean_absolute_error\n",
    "\n",
    "# va_y：真の値, pred：予測値\n",
    "va_y = [100, 160, 60]\n",
    "pred = [80, 100, 100]\n",
    "\n",
    "mae = mean_absolute_error(va_y, pred)\n",
    "print(mae)"
   ]
  },
  {
   "cell_type": "markdown",
   "metadata": {},
   "source": [
    "__決定係数（$R^2$）__"
   ]
  },
  {
   "cell_type": "code",
   "execution_count": 16,
   "metadata": {},
   "outputs": [
    {
     "name": "stdout",
     "output_type": "stream",
     "text": [
      "0.9802631578947368\n"
     ]
    }
   ],
   "source": [
    "from sklearn.metrics import r2_score\n",
    "\n",
    "# va_y：真の値, pred：予測値\n",
    "va_y = [100, 160, 60]\n",
    "pred = [100, 160, 50]\n",
    "\n",
    "r2 = r2_score(va_y, pred)\n",
    "print(r2)"
   ]
  },
  {
   "cell_type": "markdown",
   "metadata": {},
   "source": [
    "#### 2.3.2 分類\n",
    "二値分類にの評価指標は以下の2つに分けられる\n",
    "- 0か1の2種類のラベルで予測値を提出する場合\n",
    "- 0から1の間の確率を表す数値で予測を提出する場合"
   ]
  },
  {
   "cell_type": "markdown",
   "metadata": {},
   "source": [
    "0か1の2種類のラベルで予測値を提出する場合"
   ]
  },
  {
   "cell_type": "markdown",
   "metadata": {},
   "source": []
  },
  {
   "cell_type": "markdown",
   "metadata": {},
   "source": [
    "0から1の間の確率を表す数値で予測を提出する場合"
   ]
  },
  {
   "cell_type": "markdown",
   "metadata": {},
   "source": [
    "## 3. 特徴量の作成"
   ]
  },
  {
   "cell_type": "markdown",
   "metadata": {},
   "source": [
    "## 4. モデルの作成"
   ]
  },
  {
   "cell_type": "markdown",
   "metadata": {},
   "source": [
    "## 5. モデルの評価"
   ]
  },
  {
   "cell_type": "markdown",
   "metadata": {},
   "source": [
    "## 6. モデルのチューニング"
   ]
  },
  {
   "cell_type": "markdown",
   "metadata": {},
   "source": [
    "## 7. アンサンブル"
   ]
  },
  {
   "cell_type": "markdown",
   "metadata": {},
   "source": [
    "# 【機械学習手法のまとめ】"
   ]
  },
  {
   "cell_type": "markdown",
   "metadata": {},
   "source": [
    "## 1. 教師あり学習"
   ]
  },
  {
   "cell_type": "markdown",
   "metadata": {},
   "source": [
    "### 1.1 回帰"
   ]
  },
  {
   "cell_type": "markdown",
   "metadata": {},
   "source": []
  },
  {
   "cell_type": "markdown",
   "metadata": {},
   "source": [
    "### 1.2 分類"
   ]
  },
  {
   "cell_type": "markdown",
   "metadata": {},
   "source": [
    "__SVM（Support Vector Machine：サポートベクターマシン）__ \\\n",
    "なるべく公平な境界線を引いて、分類を予測するアルゴリズム\n",
    "- LinearSVC（Linear Support Vector Classification：線形サポートベクター分類）\n",
    "- SVC（Support Vector Classification：サポートベクター分類）\n",
    "    - kernel = \"linear\"：線形分類\n",
    "    - kernel = \"rbf\"   ：非線形分類"
   ]
  },
  {
   "cell_type": "markdown",
   "metadata": {},
   "source": [
    "__LinearSVC（Linear Support Vector Classification：線形サポートベクター分類）__\\\n",
    "LinearSVCはカーネルが線形カーネルの場合に特化したSVMであり, 計算が高速だったり, 他のSVMにはないオプションが指定できたりする."
   ]
  },
  {
   "cell_type": "code",
   "execution_count": null,
   "metadata": {},
   "outputs": [],
   "source": [
    "from sklearn.svm import LinearSVC\n",
    "\n",
    "model = LinearSVC()\n",
    "model.fit(X_train, y_train)\n",
    "\n",
    "pred = model.predict(X_test)"
   ]
  },
  {
   "cell_type": "markdown",
   "metadata": {},
   "source": [
    "__SVC（Support Vector Classification：サポートベクター分類）__\\\n",
    "SVCは標準的なソフトマージン(エラーを許容する)SVM \\\n",
    "境界線に近い点をサポートベクトルと呼び、サポートベクトルから境界線までの距離が1番遠くなるように線を引く（サポートベクトルからのマージン（余白））。この考え方を使って学習データに忠実に境界線を引いたものをハードマージンといい、多少の誤差を許容してゆるい線を引くのがソフトマージン。 \\\n",
    "デフォルトでは kernel=\"rbf\", C=1.0, gamma= 1/特徴数 となっている。"
   ]
  },
  {
   "cell_type": "markdown",
   "metadata": {},
   "source": [
    "線形分類\n",
    "- kernel = \"linear\"：線形分類"
   ]
  },
  {
   "cell_type": "code",
   "execution_count": null,
   "metadata": {},
   "outputs": [],
   "source": [
    "from sklearn import svm\n",
    "# 線形分類\n",
    "model = svm.SVC(kernel='liner')\n",
    "model.fit(X_train, y_train)\n",
    "\n",
    "pred = model.predict(X_test)"
   ]
  },
  {
   "cell_type": "markdown",
   "metadata": {},
   "source": [
    "非線形分類\n",
    "- kernel = \"rbf\"   ：非線形分類\n",
    "- gamma            ：パラメータの数値を大きくすると境界線が複雑に、小さくすると単純に調整できる\n",
    "    - gamma = \"scale\" or \"auto\"：お任せに設定"
   ]
  },
  {
   "cell_type": "code",
   "execution_count": null,
   "metadata": {},
   "outputs": [],
   "source": [
    "from sklearn import svm\n",
    "# 非線形分類\n",
    "model = svm.SVC(kernel='rbf', gamma='scale')\n",
    "model.fit(X_train, y_train)\n",
    "\n",
    "pred = model.predict(X_test)"
   ]
  },
  {
   "cell_type": "markdown",
   "metadata": {},
   "source": [
    "__KNeighbors Classifier（K近傍法）__ \\\n",
    "近いものは仲間。近くのk個を調べて、多数決で分類を予測するアルゴリズム。"
   ]
  },
  {
   "cell_type": "markdown",
   "metadata": {},
   "source": [
    "パラメータ\n",
    "- n_neighbors：k\n",
    "    - 近傍オブジェクト数（初期値:5）\n",
    "- weights：重み\n",
    "    - ‘uniform’ : 均一の重み（初期値）\n",
    "    - ‘distance’ : 距離に応じた重み"
   ]
  },
  {
   "cell_type": "code",
   "execution_count": null,
   "metadata": {},
   "outputs": [],
   "source": [
    "from sklearn.neighbors import KNeighborsClassifier\n",
    "\n",
    "model = KNeighborsClassifier()\n",
    "model.fit(X_train, y_train)\n",
    "\n",
    "pred = model.predict(X_test)"
   ]
  },
  {
   "cell_type": "markdown",
   "metadata": {},
   "source": [
    "__RandomForestClassifier（ランダムフォレスト）__ \\\n",
    "ランダムフォレストは決定木をたくさん作って多数決で予測をする、精度の高いアルゴリズム"
   ]
  },
  {
   "cell_type": "code",
   "execution_count": null,
   "metadata": {},
   "outputs": [],
   "source": [
    "from sklearn.ensemble import RandomForestClassifier\n",
    "\n",
    "model = RandomForestClassifier()\n",
    "model.fit(X_train, y_train)\n",
    "\n",
    "pred = model.predict(X_test)"
   ]
  },
  {
   "cell_type": "markdown",
   "metadata": {},
   "source": [
    "## 2. 教師なし学習"
   ]
  },
  {
   "cell_type": "markdown",
   "metadata": {},
   "source": [
    "### 2.1 クラスタリング"
   ]
  },
  {
   "cell_type": "markdown",
   "metadata": {},
   "source": [
    "### 2.2 主成分分析 "
   ]
  },
  {
   "cell_type": "markdown",
   "metadata": {},
   "source": [
    "## 3. 強化学習"
   ]
  },
  {
   "cell_type": "markdown",
   "metadata": {},
   "source": []
  }
 ],
 "metadata": {
  "interpreter": {
   "hash": "cd78fef2128015050713e82ca51c6520b11aee7c9ee8df750520bbbc7384cbaa"
  },
  "kernelspec": {
   "display_name": "Python 3.8.3 ('base')",
   "language": "python",
   "name": "python3"
  },
  "language_info": {
   "codemirror_mode": {
    "name": "ipython",
    "version": 3
   },
   "file_extension": ".py",
   "mimetype": "text/x-python",
   "name": "python",
   "nbconvert_exporter": "python",
   "pygments_lexer": "ipython3",
   "version": "3.8.3"
  },
  "orig_nbformat": 4
 },
 "nbformat": 4,
 "nbformat_minor": 2
}
